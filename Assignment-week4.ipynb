{
 "cells": [
  {
   "cell_type": "markdown",
   "metadata": {},
   "source": [
    "# Development and Diversity of Bangalore"
   ]
  },
  {
   "cell_type": "markdown",
   "metadata": {},
   "source": [
    "City of Bangalore has developed very Rapidly over the last couple of decades  \n",
    "which made it very diverse - but is the diversity evenly distributed across the city?  \n",
    "or is the development has triggered certain changes which even though looking diverse - is not that diverse  \n",
    "\n",
    "To set the business in Bangalore it's very much required to understand the diversity  \n",
    "the business problem that we are going to look into with this study would be to understand the food preferences  \n",
    "the assumptions being made is to look at the food preferences from the presence of that category of food outlets in the area  \n",
    "\n",
    "if you are setting up a new food outlet, the business problem for the new establishment to understand the diversity and what kind of food outlet should be opened   \n",
    "in which part of the city, and understand the current food preferences of the area"
   ]
  },
  {
   "cell_type": "markdown",
   "metadata": {},
   "source": [
    "## Maps of Bangalore showing Rapid Development"
   ]
  },
  {
   "cell_type": "markdown",
   "metadata": {},
   "source": [
    "<img src=http://catalyst.nationalinterest.in/wp-content/uploads/2014/01/Bangalore-2005-06.jpg>"
   ]
  },
  {
   "cell_type": "code",
   "execution_count": null,
   "metadata": {},
   "outputs": [],
   "source": []
  },
  {
   "cell_type": "markdown",
   "metadata": {},
   "source": [
    "<img src=http://catalyst.nationalinterest.in/wp-content/uploads/2014/01/Bangalore-2011-12.jpg>"
   ]
  },
  {
   "cell_type": "markdown",
   "metadata": {},
   "source": [
    "The two above maps are providng good amount of information on the growth of bangalore - which is primarily happening in South and South - East of Bangalore  \n",
    "growth is also seen on other part of bangalore too"
   ]
  },
  {
   "cell_type": "markdown",
   "metadata": {},
   "source": [
    "## Data Source"
   ]
  },
  {
   "cell_type": "markdown",
   "metadata": {},
   "source": [
    "### Area Information\n",
    "For Finding out areas of bangalore government of india's open dataset - https://data.gov.in/catalog/locality-based-pincode  \n",
    "can be used to fetch the areas of Bangalore  \n"
   ]
  },
  {
   "cell_type": "markdown",
   "metadata": {},
   "source": [
    "### Location Information\n",
    "Geopy doesn't provide for the location of the areas within bangalore\n",
    "it provides for the location of bangalore itself but for all other areas it give the latitude longitude of bangalore itself\n",
    "so Geopy is not good source of information there but can be used to fetch the coordinates of Bangalore"
   ]
  },
  {
   "cell_type": "markdown",
   "metadata": {},
   "source": [
    "### Alternate source of Location information\n",
    " one of the dataset of bangalore at https://data.gov.in/catalog/locality-based-pincode\n",
    " provides of latitude and longitude information - it doesn't provide location information for rural areas of bangalore\n",
    " but for urban areas of bangalore it provides for good amount of information and especially for the two regions which have grown up recently it provide of the location information - so we will be using the data set for that"
   ]
  },
  {
   "cell_type": "markdown",
   "metadata": {},
   "source": [
    "### About the dataset\n",
    "\n",
    "you can use the temporary key to fetch the subset of information  \n",
    "but if you want to have a full look at the full data you would need to login to the website  \n",
    "a key is provided for each user which can be used to fetch the data from the API\n",
    "the data can be fetched in xml/json/csv format\n",
    "for our analysid we would be fetching the csv format data   "
   ]
  },
  {
   "cell_type": "markdown",
   "metadata": {},
   "source": [
    "### Processing and Analysis\n",
    "form Foursquare we would be fetching the food outlets around in the postal code area. as we are not comparing the neighbourhood  \n",
    "but looking at the food preferences we would be increaing our radius of search to 3000"
   ]
  },
  {
   "cell_type": "code",
   "execution_count": null,
   "metadata": {},
   "outputs": [],
   "source": []
  }
 ],
 "metadata": {
  "kernelspec": {
   "display_name": "Python 3",
   "language": "python",
   "name": "python3"
  },
  "language_info": {
   "codemirror_mode": {
    "name": "ipython",
    "version": 3
   },
   "file_extension": ".py",
   "mimetype": "text/x-python",
   "name": "python",
   "nbconvert_exporter": "python",
   "pygments_lexer": "ipython3",
   "version": "3.6.5"
  }
 },
 "nbformat": 4,
 "nbformat_minor": 2
}
