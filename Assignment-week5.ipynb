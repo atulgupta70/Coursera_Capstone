{
 "cells": [
  {
   "cell_type": "markdown",
   "metadata": {},
   "source": [
    "# Development and Diversity of Bangalore"
   ]
  },
  {
   "cell_type": "markdown",
   "metadata": {},
   "source": [
    "City of Bangalore has developed very Rapidly over the last couple of decades  \n",
    "which made it very diverse - but is the diversity evenly distributed across the city?  \n",
    "or is the development has triggered certain changes which even though looking diverse - is not that diverse  \n",
    "\n",
    "To set the business in Bangalore it's very much required to understand the diversity  \n",
    "the business problem that we are going to look into with this study would be to understand the food preferences  \n",
    "the assumptions being made is to look at the food preferences from the presence of that category of food outlets in the area  \n",
    "\n",
    "### Business Problem\n",
    "if you are setting up a new food outlet, the business problem for the new establishment to understand the diversity and what kind of food outlet should be opened   \n",
    "in which part of the city, and understand the current food preferences of the area"
   ]
  },
  {
   "cell_type": "markdown",
   "metadata": {},
   "source": [
    "## Maps of Bangalore showing Rapid Development"
   ]
  },
  {
   "cell_type": "markdown",
   "metadata": {},
   "source": [
    "<img src=http://catalyst.nationalinterest.in/wp-content/uploads/2014/01/Bangalore-2005-06.jpg>"
   ]
  },
  {
   "cell_type": "code",
   "execution_count": null,
   "metadata": {},
   "outputs": [],
   "source": []
  },
  {
   "cell_type": "markdown",
   "metadata": {},
   "source": [
    "<img src=http://catalyst.nationalinterest.in/wp-content/uploads/2014/01/Bangalore-2011-12.jpg>"
   ]
  },
  {
   "cell_type": "markdown",
   "metadata": {},
   "source": [
    "The two above maps are providng good amount of information on the growth of bangalore - which is primarily happening in South and South - East of Bangalore  \n",
    "growth is also seen on other part of bangalore too"
   ]
  },
  {
   "cell_type": "markdown",
   "metadata": {},
   "source": [
    "## Data Source"
   ]
  },
  {
   "cell_type": "markdown",
   "metadata": {},
   "source": [
    "### Area Information\n",
    "For Finding out areas of bangalore government of india's open dataset - https://data.gov.in/catalog/locality-based-pincode  \n",
    "can be used to fetch the areas of Bangalore  \n"
   ]
  },
  {
   "cell_type": "markdown",
   "metadata": {},
   "source": [
    "### Location Information\n",
    "Geopy doesn't provide for the location of the areas within bangalore\n",
    "it provides for the location of bangalore itself but for all other areas it give the latitude longitude of bangalore itself\n",
    "so Geopy is not good source of information there but can be used to fetch the coordinates of Bangalore"
   ]
  },
  {
   "cell_type": "markdown",
   "metadata": {},
   "source": [
    "### Alternate source of Location information\n",
    " one of the dataset of bangalore at https://data.gov.in/catalog/locality-based-pincode\n",
    " provides of latitude and longitude information - it doesn't provide location information for rural areas of bangalore\n",
    " but for urban areas of bangalore it provides for good amount of information and especially for the two regions which have grown up recently it provide of the location information - so we will be using the data set for that"
   ]
  },
  {
   "cell_type": "markdown",
   "metadata": {},
   "source": [
    "### About the dataset\n",
    "\n",
    "you can use the temporary key to fetch the subset of information  \n",
    "but if you want to have a full look at the full data you would need to login to the website  \n",
    "a key is provided for each user which can be used to fetch the data from the API\n",
    "the data can be fetched in xml/json/csv format\n",
    "for our analysid we would be fetching the csv format data   "
   ]
  },
  {
   "cell_type": "markdown",
   "metadata": {},
   "source": [
    "### Processing and Analysis\n",
    "form Foursquare we would be fetching the food outlets around in the postal code area. as we are not comparing the neighbourhood  \n",
    "but looking at the food preferences we would be increaing our radius of search to 3000"
   ]
  },
  {
   "cell_type": "markdown",
   "metadata": {},
   "source": [
    "## Methodology"
   ]
  },
  {
   "cell_type": "markdown",
   "metadata": {},
   "source": [
    "Data is available for all cities of bangalore - we need to get only for Bangalore and filter the data to get only the postacl codes for which latitude  \n",
    "longitude information is available"
   ]
  },
  {
   "cell_type": "code",
   "execution_count": 4,
   "metadata": {},
   "outputs": [
    {
     "data": {
      "text/html": [
       "<div>\n",
       "<style scoped>\n",
       "    .dataframe tbody tr th:only-of-type {\n",
       "        vertical-align: middle;\n",
       "    }\n",
       "\n",
       "    .dataframe tbody tr th {\n",
       "        vertical-align: top;\n",
       "    }\n",
       "\n",
       "    .dataframe thead th {\n",
       "        text-align: right;\n",
       "    }\n",
       "</style>\n",
       "<table border=\"1\" class=\"dataframe\">\n",
       "  <thead>\n",
       "    <tr style=\"text-align: right;\">\n",
       "      <th></th>\n",
       "      <th>Unnamed: 0</th>\n",
       "      <th>officename</th>\n",
       "      <th>pincode</th>\n",
       "      <th>officeType</th>\n",
       "      <th>Deliverystatus</th>\n",
       "      <th>divisionname</th>\n",
       "      <th>regionname</th>\n",
       "      <th>circlename</th>\n",
       "      <th>Taluk</th>\n",
       "      <th>Districtname</th>\n",
       "      <th>statename</th>\n",
       "      <th>Telephone</th>\n",
       "      <th>Related Suboffice</th>\n",
       "      <th>Related Headoffice</th>\n",
       "      <th>longitude</th>\n",
       "      <th>latitude</th>\n",
       "    </tr>\n",
       "  </thead>\n",
       "  <tbody>\n",
       "    <tr>\n",
       "      <th>0</th>\n",
       "      <td>0</td>\n",
       "      <td>Achalapur B.O</td>\n",
       "      <td>504273</td>\n",
       "      <td>B.O</td>\n",
       "      <td>Delivery</td>\n",
       "      <td>Adilabad</td>\n",
       "      <td>Hyderabad</td>\n",
       "      <td>Andhra Pradesh</td>\n",
       "      <td>Asifabad</td>\n",
       "      <td>Adilabad</td>\n",
       "      <td>TELANGANA</td>\n",
       "      <td>NaN</td>\n",
       "      <td>Rechini S.O</td>\n",
       "      <td>Mancherial H.O</td>\n",
       "      <td>NaN</td>\n",
       "      <td>NaN</td>\n",
       "    </tr>\n",
       "    <tr>\n",
       "      <th>1</th>\n",
       "      <td>1</td>\n",
       "      <td>Ada B.O</td>\n",
       "      <td>504293</td>\n",
       "      <td>B.O</td>\n",
       "      <td>Delivery</td>\n",
       "      <td>Adilabad</td>\n",
       "      <td>Hyderabad</td>\n",
       "      <td>Andhra Pradesh</td>\n",
       "      <td>Asifabad</td>\n",
       "      <td>Adilabad</td>\n",
       "      <td>TELANGANA</td>\n",
       "      <td>NaN</td>\n",
       "      <td>Asifabad S.O</td>\n",
       "      <td>Mancherial H.O</td>\n",
       "      <td>NaN</td>\n",
       "      <td>NaN</td>\n",
       "    </tr>\n",
       "    <tr>\n",
       "      <th>2</th>\n",
       "      <td>2</td>\n",
       "      <td>Adegaon B.O</td>\n",
       "      <td>504307</td>\n",
       "      <td>B.O</td>\n",
       "      <td>Delivery</td>\n",
       "      <td>Adilabad</td>\n",
       "      <td>Hyderabad</td>\n",
       "      <td>Andhra Pradesh</td>\n",
       "      <td>Boath</td>\n",
       "      <td>Adilabad</td>\n",
       "      <td>TELANGANA</td>\n",
       "      <td>NaN</td>\n",
       "      <td>Echoda S.O</td>\n",
       "      <td>Adilabad H.O</td>\n",
       "      <td>NaN</td>\n",
       "      <td>NaN</td>\n",
       "    </tr>\n",
       "    <tr>\n",
       "      <th>3</th>\n",
       "      <td>3</td>\n",
       "      <td>Adilabad Collectorate S.O</td>\n",
       "      <td>504001</td>\n",
       "      <td>S.O</td>\n",
       "      <td>Non-Delivery</td>\n",
       "      <td>Adilabad</td>\n",
       "      <td>Hyderabad</td>\n",
       "      <td>Andhra Pradesh</td>\n",
       "      <td>Adilabad</td>\n",
       "      <td>Adilabad</td>\n",
       "      <td>TELANGANA</td>\n",
       "      <td>08732-226703</td>\n",
       "      <td>NaN</td>\n",
       "      <td>Adilabad H.O</td>\n",
       "      <td>NaN</td>\n",
       "      <td>NaN</td>\n",
       "    </tr>\n",
       "    <tr>\n",
       "      <th>4</th>\n",
       "      <td>4</td>\n",
       "      <td>Adilabad H.O</td>\n",
       "      <td>504001</td>\n",
       "      <td>H.O</td>\n",
       "      <td>Delivery</td>\n",
       "      <td>Adilabad</td>\n",
       "      <td>Hyderabad</td>\n",
       "      <td>Andhra Pradesh</td>\n",
       "      <td>Adilabad</td>\n",
       "      <td>Adilabad</td>\n",
       "      <td>TELANGANA</td>\n",
       "      <td>08732-226738</td>\n",
       "      <td>NaN</td>\n",
       "      <td>NaN</td>\n",
       "      <td>NaN</td>\n",
       "      <td>NaN</td>\n",
       "    </tr>\n",
       "  </tbody>\n",
       "</table>\n",
       "</div>"
      ],
      "text/plain": [
       "   Unnamed: 0                 officename  pincode officeType Deliverystatus  \\\n",
       "0           0              Achalapur B.O   504273        B.O       Delivery   \n",
       "1           1                    Ada B.O   504293        B.O       Delivery   \n",
       "2           2                Adegaon B.O   504307        B.O       Delivery   \n",
       "3           3  Adilabad Collectorate S.O   504001        S.O   Non-Delivery   \n",
       "4           4               Adilabad H.O   504001        H.O       Delivery   \n",
       "\n",
       "  divisionname regionname      circlename     Taluk Districtname  statename  \\\n",
       "0     Adilabad  Hyderabad  Andhra Pradesh  Asifabad     Adilabad  TELANGANA   \n",
       "1     Adilabad  Hyderabad  Andhra Pradesh  Asifabad     Adilabad  TELANGANA   \n",
       "2     Adilabad  Hyderabad  Andhra Pradesh     Boath     Adilabad  TELANGANA   \n",
       "3     Adilabad  Hyderabad  Andhra Pradesh  Adilabad     Adilabad  TELANGANA   \n",
       "4     Adilabad  Hyderabad  Andhra Pradesh  Adilabad     Adilabad  TELANGANA   \n",
       "\n",
       "      Telephone Related Suboffice Related Headoffice  longitude  latitude  \n",
       "0           NaN       Rechini S.O     Mancherial H.O        NaN       NaN  \n",
       "1           NaN      Asifabad S.O     Mancherial H.O        NaN       NaN  \n",
       "2           NaN        Echoda S.O       Adilabad H.O        NaN       NaN  \n",
       "3  08732-226703               NaN       Adilabad H.O        NaN       NaN  \n",
       "4  08732-226738               NaN                NaN        NaN       NaN  "
      ]
     },
     "execution_count": 4,
     "metadata": {},
     "output_type": "execute_result"
    }
   ],
   "source": [
    "import pandas as pd\n",
    "df = pd.read_csv(\"postal.csv\")\n",
    "df.head()"
   ]
  },
  {
   "cell_type": "markdown",
   "metadata": {},
   "source": [
    "Once the data for Bangalore postal code is availble with the latitude and longitudes we need to fetch the food outlets around the area  \n",
    "as we are looking for food prefrences we would be looking for data with wider radius for this case radius we are looking for is 3000\n",
    "data can then be fetched from foursquare with query for \"food\". which is populated along with latitude and longitude of the area"
   ]
  },
  {
   "cell_type": "code",
   "execution_count": 6,
   "metadata": {},
   "outputs": [
    {
     "data": {
      "text/html": [
       "<div>\n",
       "<style scoped>\n",
       "    .dataframe tbody tr th:only-of-type {\n",
       "        vertical-align: middle;\n",
       "    }\n",
       "\n",
       "    .dataframe tbody tr th {\n",
       "        vertical-align: top;\n",
       "    }\n",
       "\n",
       "    .dataframe thead th {\n",
       "        text-align: right;\n",
       "    }\n",
       "</style>\n",
       "<table border=\"1\" class=\"dataframe\">\n",
       "  <thead>\n",
       "    <tr style=\"text-align: right;\">\n",
       "      <th></th>\n",
       "      <th>Unnamed: 0</th>\n",
       "      <th>PostalCode</th>\n",
       "      <th>PostalCode Latitude</th>\n",
       "      <th>PostalCode Longitude</th>\n",
       "      <th>Venue</th>\n",
       "      <th>Venue Latitude</th>\n",
       "      <th>Venue Longitude</th>\n",
       "      <th>Venue Category</th>\n",
       "    </tr>\n",
       "  </thead>\n",
       "  <tbody>\n",
       "    <tr>\n",
       "      <th>0</th>\n",
       "      <td>0</td>\n",
       "      <td>Arabic College S.O</td>\n",
       "      <td>13.0291</td>\n",
       "      <td>77.6206</td>\n",
       "      <td>Chulha Chauki da Dhabha</td>\n",
       "      <td>13.024896</td>\n",
       "      <td>77.631590</td>\n",
       "      <td>Indian Restaurant</td>\n",
       "    </tr>\n",
       "    <tr>\n",
       "      <th>1</th>\n",
       "      <td>1</td>\n",
       "      <td>Arabic College S.O</td>\n",
       "      <td>13.0291</td>\n",
       "      <td>77.6206</td>\n",
       "      <td>Adyar Ananda Bhavan</td>\n",
       "      <td>13.041035</td>\n",
       "      <td>77.624513</td>\n",
       "      <td>Vegetarian / Vegan Restaurant</td>\n",
       "    </tr>\n",
       "    <tr>\n",
       "      <th>2</th>\n",
       "      <td>2</td>\n",
       "      <td>Arabic College S.O</td>\n",
       "      <td>13.0291</td>\n",
       "      <td>77.6206</td>\n",
       "      <td>Momoz</td>\n",
       "      <td>13.015252</td>\n",
       "      <td>77.631068</td>\n",
       "      <td>Diner</td>\n",
       "    </tr>\n",
       "    <tr>\n",
       "      <th>3</th>\n",
       "      <td>3</td>\n",
       "      <td>Arabic College S.O</td>\n",
       "      <td>13.0291</td>\n",
       "      <td>77.6206</td>\n",
       "      <td>Tashan - Punjabi Restaurant</td>\n",
       "      <td>13.024162</td>\n",
       "      <td>77.632978</td>\n",
       "      <td>Indian Restaurant</td>\n",
       "    </tr>\n",
       "    <tr>\n",
       "      <th>4</th>\n",
       "      <td>4</td>\n",
       "      <td>Arabic College S.O</td>\n",
       "      <td>13.0291</td>\n",
       "      <td>77.6206</td>\n",
       "      <td>Thalassery Restaurant</td>\n",
       "      <td>13.015042</td>\n",
       "      <td>77.631679</td>\n",
       "      <td>Kerala Restaurant</td>\n",
       "    </tr>\n",
       "  </tbody>\n",
       "</table>\n",
       "</div>"
      ],
      "text/plain": [
       "   Unnamed: 0          PostalCode  PostalCode Latitude  PostalCode Longitude  \\\n",
       "0           0  Arabic College S.O              13.0291               77.6206   \n",
       "1           1  Arabic College S.O              13.0291               77.6206   \n",
       "2           2  Arabic College S.O              13.0291               77.6206   \n",
       "3           3  Arabic College S.O              13.0291               77.6206   \n",
       "4           4  Arabic College S.O              13.0291               77.6206   \n",
       "\n",
       "                         Venue  Venue Latitude  Venue Longitude  \\\n",
       "0      Chulha Chauki da Dhabha       13.024896        77.631590   \n",
       "1          Adyar Ananda Bhavan       13.041035        77.624513   \n",
       "2                        Momoz       13.015252        77.631068   \n",
       "3  Tashan - Punjabi Restaurant       13.024162        77.632978   \n",
       "4        Thalassery Restaurant       13.015042        77.631679   \n",
       "\n",
       "                  Venue Category  \n",
       "0              Indian Restaurant  \n",
       "1  Vegetarian / Vegan Restaurant  \n",
       "2                          Diner  \n",
       "3              Indian Restaurant  \n",
       "4              Kerala Restaurant  "
      ]
     },
     "execution_count": 6,
     "metadata": {},
     "output_type": "execute_result"
    }
   ],
   "source": [
    "df = pd.read_csv(\"ny_venues.csv\")\n",
    "df.head()"
   ]
  },
  {
   "cell_type": "markdown",
   "metadata": {},
   "source": [
    "Next step is to group the data by the Venue Category which then can be used to get the clustering using KMeans. As we are looking to understand the  \n",
    "localities and diversity we would be looking at the various clusters - for this exercise from 2 - 5 to undersand the diferences between the areas and  \n",
    "food preferences"
   ]
  },
  {
   "cell_type": "markdown",
   "metadata": {},
   "source": [
    "Below is How the postal codes plotted on Bangalore map look like\n",
    "<img src=bangalore_postal_codes.JPG>"
   ]
  },
  {
   "cell_type": "markdown",
   "metadata": {},
   "source": [
    "## Results"
   ]
  },
  {
   "cell_type": "markdown",
   "metadata": {},
   "source": [
    "we would be looking at the clustering results for clusters of 2 to 5"
   ]
  },
  {
   "cell_type": "markdown",
   "metadata": {},
   "source": [
    "Cluster of 2 - the outskirt areas are clustered together and rest of the city as one cluster on Analysis it was found the outskirts areas doesn't have too many\n",
    "outlets"
   ]
  },
  {
   "cell_type": "markdown",
   "metadata": {},
   "source": [
    "\n",
    "<img src=\"Clusters_2.JPG\">"
   ]
  },
  {
   "cell_type": "markdown",
   "metadata": {},
   "source": [
    "Cluster of 3 and Cluster of 4 started showing a pattern with similarities between northern and eastern part of the city"
   ]
  },
  {
   "cell_type": "markdown",
   "metadata": {},
   "source": [
    "<tr> <td> <img src=\"Clusters_3.JPG\"> </td> <td> <img src=\"Clusters_4.JPG\"> </td> </tr>"
   ]
  },
  {
   "cell_type": "markdown",
   "metadata": {},
   "source": [
    "even though eastern and northern part of the city showed similarities but they have dissimilarities too. but was to be seen was southern part of the city showed a clear difference from rest of the city - below is cluster of 5"
   ]
  },
  {
   "cell_type": "markdown",
   "metadata": {},
   "source": [
    "<img src=\"Clusters_5.JPG\">"
   ]
  },
  {
   "cell_type": "markdown",
   "metadata": {},
   "source": [
    "## Discussion\n",
    "To understand what are those things which are making these cluster of the city different. had a look at the clusters more prominent food outlet categories"
   ]
  },
  {
   "cell_type": "markdown",
   "metadata": {},
   "source": [
    "### South\n",
    "south part of the city Indian and Chinese Restaurants are more prominent  \n",
    "<img src=\"South.JPG\">"
   ]
  },
  {
   "cell_type": "markdown",
   "metadata": {},
   "source": [
    "East and Central Part of the City is also showing similar trend but it is different from south part of the city as there are prominently more number of Pubs  \n",
    "<img src=\"EAST.JPG\">"
   ]
  },
  {
   "cell_type": "markdown",
   "metadata": {},
   "source": [
    "North part of city has shown quite a differnet trend where indian restaurant are more prominent but the things that distinguishes is the prominent presence of   \n",
    "Vegetarian food  \n",
    "<img src=\"North.JPG\">"
   ]
  },
  {
   "cell_type": "markdown",
   "metadata": {},
   "source": [
    "so looking at the above trends the recommendation for the Vegetarian Food Lovers is to look for restaurants in North  \n",
    "but if you regular bar goer look for central and east of the city  \n",
    "but for the Business Point of View  \n",
    "if you are going to open Indian Vegeterian Restaurant or Chinese Restaurant - you can go and open in any part of the city  \n",
    "if you are looking to open bar - look to go towards East  \n",
    "for rest of the food outlet categories there is good amount of presence of nearly all food type but you might have to do some ground work  "
   ]
  },
  {
   "cell_type": "markdown",
   "metadata": {},
   "source": [
    "## Conclusion\n",
    "Even though Bangalore being a diverse City, the food outlet presence across the city has given a clear preferences  \n",
    "it was quite suprising to note that the clusters got formed by the geographical positions of the areas  \n",
    "which probably is to do with not so even development of the city  \n",
    "the EAST part of the city with prominent IT Industry area has shown a different preference for food  \n",
    "and South and North with prominent Residential areas have shown a different prefereces  \n",
    "\n",
    "the above might be because of the Development of the city happening where the old parts of the City are still traditional  \n",
    "and new part of the city has got divided up as residential and business centers  "
   ]
  },
  {
   "cell_type": "code",
   "execution_count": null,
   "metadata": {},
   "outputs": [],
   "source": []
  }
 ],
 "metadata": {
  "kernelspec": {
   "display_name": "Python 3",
   "language": "python",
   "name": "python3"
  },
  "language_info": {
   "codemirror_mode": {
    "name": "ipython",
    "version": 3
   },
   "file_extension": ".py",
   "mimetype": "text/x-python",
   "name": "python",
   "nbconvert_exporter": "python",
   "pygments_lexer": "ipython3",
   "version": "3.6.5"
  }
 },
 "nbformat": 4,
 "nbformat_minor": 2
}
